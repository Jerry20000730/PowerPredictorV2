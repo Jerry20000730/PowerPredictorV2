{
 "cells": [
  {
   "cell_type": "code",
   "execution_count": 16,
   "metadata": {
    "collapsed": true,
    "ExecuteTime": {
     "end_time": "2023-06-22T08:04:51.626600400Z",
     "start_time": "2023-06-22T08:04:51.611655600Z"
    }
   },
   "outputs": [
    {
     "name": "stdout",
     "output_type": "stream",
     "text": [
      "aa4q\n",
      "aa4r\n"
     ]
    }
   ],
   "source": [
    "import os\n",
    "from collections import Counter\n",
    "\n",
    "files = os.listdir(\"ImageCollection\")\n",
    "files = [filename[:4] for filename in files]\n",
    "\n",
    "power_files = os.listdir(\"PowerCollection\")\n",
    "power_files = [filename[-8:-4] for filename in power_files]\n",
    "\n",
    "file_counter = Counter(files)\n",
    "power_counter = Counter(power_files)\n",
    "\n",
    "file_counter = dict(file_counter)\n",
    "power_counter = dict(power_counter)\n",
    "for key in power_counter.keys():\n",
    "    if key not in file_counter:\n",
    "        print(key)"
   ]
  },
  {
   "cell_type": "code",
   "execution_count": 10,
   "outputs": [],
   "source": [
    "import os\n",
    "import re\n",
    "\n",
    "def get_filelist(path):\n",
    "    Filelist = []\n",
    "    for home, dirs, files in os.walk(path):\n",
    "        for filename in files:\n",
    "            Filelist.append(os.path.join(home, filename))\n",
    "    return Filelist\n",
    "\n",
    "path = \"F:\\Enhancement\\mksz393 - Django入门到进阶-更适合Python小白的系统课程\"\n",
    "Filelist = get_filelist(path)\n",
    "\n",
    "for filepath in Filelist:\n",
    "    oldfilepath = filepath\n",
    "    (path, filename) = os.path.split(filepath)\n",
    "    filename = filename.replace(\"【更多IT教程 微信dbaxxa】\", \"\")\n",
    "    # info = re.compile('[0-9][0-9]-[0-9]')\n",
    "    # if re.match(info, filename) is not None:\n",
    "    #     id = str(re.match(info, filename).group()) + \" \"\n",
    "    #     filename = info.sub(id, filename)\n",
    "    newfilepath = os.path.join(path, filename)\n",
    "\n",
    "    os.rename(oldfilepath, newfilepath)"
   ],
   "metadata": {
    "collapsed": false,
    "ExecuteTime": {
     "end_time": "2023-06-23T06:36:20.830153500Z",
     "start_time": "2023-06-23T06:36:20.790990Z"
    }
   }
  },
  {
   "cell_type": "code",
   "execution_count": 2,
   "outputs": [],
   "source": [
    "import os\n",
    "\n",
    "filepath = 'PowerCollection/Label_heightmap'\n",
    "filenames = os.listdir(filepath)\n",
    "for files in filenames:\n",
    "    if files.startswith(\"0\"):\n",
    "        new_files = \"000\" + files\n",
    "        os.rename(os.path.join(filepath, files), os.path.join(filepath, new_files))"
   ],
   "metadata": {
    "collapsed": false,
    "ExecuteTime": {
     "end_time": "2023-06-24T08:42:59.281129200Z",
     "start_time": "2023-06-24T08:42:59.264603100Z"
    }
   }
  },
  {
   "cell_type": "code",
   "execution_count": 2,
   "outputs": [
    {
     "name": "stdout",
     "output_type": "stream",
     "text": [
      "(64, 512)\n",
      "[[ 4.92218  4.92218  4.92218 ...  4.4534   4.4534   4.4534 ]\n",
      " [ 4.74561  4.73548  4.72629 ...  4.3561   4.34654  4.33702]\n",
      " [ 4.52369  4.51451  4.50437 ...  4.2765   4.28316  4.2892 ]\n",
      " ...\n",
      " [-0.19209 -0.17824 -0.16495 ...  0.46878  0.46877  0.46878]\n",
      " [-0.20657 -0.18497 -0.16398 ...  0.46878  0.46878  0.46878]\n",
      " [-0.16115 -0.13981 -0.11901 ...  0.46877  0.46878  0.46877]]\n",
      "(404750336,)\n"
     ]
    },
    {
     "data": {
      "text/plain": "<Figure size 640x480 with 1 Axes>",
      "image/png": "[encoded data removed]"
     },
     "metadata": {},
     "output_type": "display_data"
    }
   ],
   "source": [
    "import matplotlib.pyplot as plt\n",
    "import numpy as np\n",
    "import os\n",
    "\n",
    "filepath = 'PowerCollection/Label_heightmap'\n",
    "filenames = os.listdir(filepath)\n",
    "mats = []\n",
    "\n",
    "for files in filenames:\n",
    "    mat = np.load(os.path.join(filepath, files))\n",
    "    mats.append(mat)\n",
    "\n",
    "print(mats[0].shape)\n",
    "print(mats[0])\n",
    "final_array = np.concatenate([np.array(mat).flatten() for mat in mats])\n",
    "print(final_array.shape)\n",
    "\n",
    "plt.hist(final_array, bins=50, density=True, range=(final_array.min(), final_array.max()), edgecolor='white')\n",
    "plt.show()"
   ],
   "metadata": {
    "collapsed": false,
    "ExecuteTime": {
     "end_time": "2023-07-03T13:32:33.635529500Z",
     "start_time": "2023-07-03T13:32:24.116506Z"
    }
   }
  },
  {
   "cell_type": "code",
   "execution_count": 5,
   "outputs": [],
   "source": [
    "import pandas as pd\n",
    "import os\n",
    "\n",
    "filepath = 'PowerCollection'\n",
    "filenames = os.listdir(filepath)\n",
    "original_data = None\n",
    "\n",
    "for file in filenames:\n",
    "    if file.endswith('.csv'):\n",
    "        df = pd.read_csv(os.path.join(filepath, file), dtype={'terrainID': str})\n",
    "        original_data = pd.concat([original_data, df], ignore_index=True, axis=0)\n",
    "\n",
    "original_data.drop(\"current_height\", axis=1, inplace=True)\n",
    "original_data.drop(\"image_height\", axis=1, inplace=True)\n",
    "original_data.to_csv(\"power_data_test.csv\", index=None)"
   ],
   "metadata": {
    "collapsed": false,
    "ExecuteTime": {
     "end_time": "2023-06-25T01:50:49.356648500Z",
     "start_time": "2023-06-25T01:50:26.991580400Z"
    }
   }
  },
  {
   "cell_type": "code",
   "execution_count": 9,
   "outputs": [
    {
     "data": {
      "text/plain": "array([[ 0.16407267,  0.16407267,  0.16407267, ...,  0.14844667,\n         0.14844667,  0.14844667],\n       [ 0.158187  ,  0.15784933,  0.157543  , ...,  0.14520333,\n         0.14488467,  0.14456733],\n       [ 0.15078967,  0.15048367,  0.15014567, ...,  0.14255   ,\n         0.142772  ,  0.14297333],\n       ...,\n       [-0.006403  , -0.00594133, -0.00549833, ...,  0.015626  ,\n         0.01562567,  0.015626  ],\n       [-0.00688567, -0.00616567, -0.005466  , ...,  0.015626  ,\n         0.015626  ,  0.015626  ],\n       [-0.00537167, -0.00466033, -0.003967  , ...,  0.01562567,\n         0.015626  ,  0.01562567]])"
     },
     "execution_count": 9,
     "metadata": {},
     "output_type": "execute_result"
    }
   ],
   "source": [
    "import numpy as np\n",
    "import os\n",
    "np.set_printoptions(suppress=True)\n",
    "\n",
    "path = 'PowerCollection/Label_heightmap_normalized'\n",
    "filenames = os.listdir(path)\n",
    "arr = np.load(os.path.join(path, filenames[0]))\n",
    "\n",
    "arr\n"
   ],
   "metadata": {
    "collapsed": false,
    "ExecuteTime": {
     "end_time": "2023-06-25T05:46:56.506343800Z",
     "start_time": "2023-06-25T05:46:56.480386200Z"
    }
   }
  },
  {
   "cell_type": "code",
   "execution_count": null,
   "outputs": [],
   "source": [],
   "metadata": {
    "collapsed": false
   }
  }
 ],
 "metadata": {
  "kernelspec": {
   "display_name": "Python 3",
   "language": "python",
   "name": "python3"
  },
  "language_info": {
   "codemirror_mode": {
    "name": "ipython",
    "version": 2
   },
   "file_extension": ".py",
   "mimetype": "text/x-python",
   "name": "python",
   "nbconvert_exporter": "python",
   "pygments_lexer": "ipython2",
   "version": "2.7.6"
  }
 },
 "nbformat": 4,
 "nbformat_minor": 0
}
